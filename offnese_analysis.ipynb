{
 "cells": [
  {
   "cell_type": "code",
   "id": "initial_id",
   "metadata": {
    "collapsed": true,
    "ExecuteTime": {
     "end_time": "2025-04-11T19:09:48.019159Z",
     "start_time": "2025-04-11T19:09:48.014188Z"
    }
   },
   "source": [
    "import pandas as pd\n",
    "from graph_tool.all import *\n",
    "import numpy as np\n",
    "from collections import *\n",
    "import heapq"
   ],
   "outputs": [],
   "execution_count": 115
  },
  {
   "metadata": {
    "ExecuteTime": {
     "end_time": "2025-04-11T19:09:48.457169Z",
     "start_time": "2025-04-11T19:09:48.028824Z"
    }
   },
   "cell_type": "code",
   "source": [
    "games = pd.read_csv('games.csv')\n",
    "plays = pd.read_csv('plays.csv')\n",
    "players = pd.read_csv('players.csv')\n",
    "player_play = pd.read_csv('player_play.csv')"
   ],
   "id": "74a649a680f91450",
   "outputs": [],
   "execution_count": 116
  },
  {
   "metadata": {
    "ExecuteTime": {
     "end_time": "2025-04-11T19:09:48.639896Z",
     "start_time": "2025-04-11T19:09:48.496416Z"
    }
   },
   "cell_type": "code",
   "source": [
    "# Merge all info\n",
    "plays_subset = plays[['gameId', 'playId', 'possessionTeam', 'expectedPoints', 'expectedPointsAdded', 'yardsGained']]\n",
    "player_play = player_play.merge(plays_subset, on=['gameId', 'playId'], how='left')\n",
    "player_play = player_play.merge(games[['gameId', 'week']], on='gameId', how='left')\n",
    "\n",
    "print(player_play.head())"
   ],
   "id": "bb821cf22da9a860",
   "outputs": [
    {
     "name": "stdout",
     "output_type": "stream",
     "text": [
      "       gameId  playId  nflId teamAbbr  hadRushAttempt  rushingYards  \\\n",
      "0  2022090800      56  35472      BUF               0             0   \n",
      "1  2022090800      56  42392      BUF               0             0   \n",
      "2  2022090800      56  42489      BUF               0             0   \n",
      "3  2022090800      56  44875      BUF               0             0   \n",
      "4  2022090800      56  44985      BUF               0             0   \n",
      "\n",
      "   hadDropback  passingYards  sackYardsAsOffense  hadPassReception  ...  \\\n",
      "0            0             0                   0                 0  ...   \n",
      "1            0             0                   0                 0  ...   \n",
      "2            0             0                   0                 1  ...   \n",
      "3            0             0                   0                 0  ...   \n",
      "4            0             0                   0                 0  ...   \n",
      "\n",
      "   pressureAllowedAsBlocker  timeToPressureAllowedAsBlocker  \\\n",
      "0                       0.0                             NaN   \n",
      "1                       0.0                             NaN   \n",
      "2                       NaN                             NaN   \n",
      "3                       0.0                             NaN   \n",
      "4                       NaN                             NaN   \n",
      "\n",
      "   pff_defensiveCoverageAssignment  pff_primaryDefensiveCoverageMatchupNflId  \\\n",
      "0                              NaN                                       NaN   \n",
      "1                              NaN                                       NaN   \n",
      "2                              NaN                                       NaN   \n",
      "3                              NaN                                       NaN   \n",
      "4                              NaN                                       NaN   \n",
      "\n",
      "   pff_secondaryDefensiveCoverageMatchupNflId  possessionTeam  expectedPoints  \\\n",
      "0                                         NaN             BUF        1.298699   \n",
      "1                                         NaN             BUF        1.298699   \n",
      "2                                         NaN             BUF        1.298699   \n",
      "3                                         NaN             BUF        1.298699   \n",
      "4                                         NaN             BUF        1.298699   \n",
      "\n",
      "   expectedPointsAdded  yardsGained  week  \n",
      "0              0.00442            6     1  \n",
      "1              0.00442            6     1  \n",
      "2              0.00442            6     1  \n",
      "3              0.00442            6     1  \n",
      "4              0.00442            6     1  \n",
      "\n",
      "[5 rows x 55 columns]\n"
     ]
    }
   ],
   "execution_count": 117
  },
  {
   "metadata": {
    "ExecuteTime": {
     "end_time": "2025-04-11T19:09:48.744103Z",
     "start_time": "2025-04-11T19:09:48.721034Z"
    }
   },
   "cell_type": "code",
   "source": [
    "# Determine which team to analyze: ex) Carolina Panthers\n",
    "team = 'CHI'\n",
    "plays = player_play[player_play['possessionTeam'] == team]\n",
    "team_player_play = player_play[player_play['teamAbbr'] == team]\n",
    "\n",
    "games = pd.concat([games[games['homeTeamAbbr'] == team], games[games['visitorTeamAbbr'] == team]], ignore_index=True)\n",
    "\n",
    "print(games.head())"
   ],
   "id": "d4db6e3796b07124",
   "outputs": [
    {
     "name": "stdout",
     "output_type": "stream",
     "text": [
      "       gameId  season  week    gameDate gameTimeEastern homeTeamAbbr  \\\n",
      "0  2022091102    2022     1   9/11/2022        13:00:00          CHI   \n",
      "1  2022092501    2022     3   9/25/2022        13:00:00          CHI   \n",
      "2  2022101300    2022     6  10/13/2022        20:15:00          CHI   \n",
      "3  2022110601    2022     9   11/6/2022        13:00:00          CHI   \n",
      "4  2022091812    2022     2   9/18/2022        20:20:00           GB   \n",
      "\n",
      "  visitorTeamAbbr  homeFinalScore  visitorFinalScore  \n",
      "0              SF              19                 10  \n",
      "1             HOU              23                 20  \n",
      "2             WAS               7                 12  \n",
      "3             MIA              32                 35  \n",
      "4             CHI              27                 10  \n"
     ]
    }
   ],
   "execution_count": 118
  },
  {
   "metadata": {
    "ExecuteTime": {
     "end_time": "2025-04-11T19:09:48.758245Z",
     "start_time": "2025-04-11T19:09:48.753961Z"
    }
   },
   "cell_type": "code",
   "source": [
    "'''\n",
    "Description of all Offensive Positions\n",
    "QB\tQuarterback\tPasses, runs, leads offense\n",
    "RB\tRunning Back\tPrimary rusher, may catch passes\n",
    "FB\tFullback\tBlocks, short yardage runs\n",
    "WR\tWide Receiver\tPass catcher, runs routes\n",
    "TE\tTight End\tBlocks + catches passes\n",
    "T / OT\tOffensive Tackle\tUsually split into LT (left tackle) and RT\n",
    "G / OG\tOffensive Guard\tLG (left guard) and RG (right guard)\n",
    "C\tCenter\tSnaps ball, blocks\n",
    "'''\n",
    "\n",
    "position_map = {\n",
    "    'QB': 'QB',\n",
    "    'WR': 'WR',\n",
    "    'TE': 'TE',\n",
    "    'RB': 'RB',\n",
    "    'FB': 'RB',\n",
    "    'HB': 'RB',\n",
    "    'C': 'OL',\n",
    "    'G': 'OL',\n",
    "    'OG': 'OL',\n",
    "    'OT': 'OL',\n",
    "    'T': 'OL'\n",
    "}\n",
    "\n",
    "players['positionGroup'] = players['position'].map(position_map).fillna('Other')\n",
    "offensive_players = players[players['positionGroup'].isin(['QB', 'WR', 'TE', 'RB', 'OL'])]\n",
    "print(offensive_players)"
   ],
   "id": "8ce6a1a05108198b",
   "outputs": [
    {
     "name": "stdout",
     "output_type": "stream",
     "text": [
      "      nflId height  weight   birthDate       collegeName position  \\\n",
      "0     25511    6-4     225  1977-08-03          Michigan       QB   \n",
      "1     29550    6-4     328  1982-01-22          Arkansas        T   \n",
      "2     29851    6-2     225  1983-12-02        California       QB   \n",
      "3     30842    6-6     267  1984-05-19              UCLA       TE   \n",
      "4     33084    6-4     217  1985-05-17    Boston College       QB   \n",
      "...     ...    ...     ...         ...               ...      ...   \n",
      "1684  55151   5-10     207         NaN           Florida       RB   \n",
      "1685  55157    6-4     245         NaN           Indiana       TE   \n",
      "1686  55158    6-2     205         NaN  Western Illinois       WR   \n",
      "1687  55168    6-1     195         NaN      Ferris State       WR   \n",
      "1688  55169   5-11     190         NaN           Arizona       WR   \n",
      "\n",
      "            displayName positionGroup  \n",
      "0             Tom Brady            QB  \n",
      "1          Jason Peters            OL  \n",
      "2         Aaron Rodgers            QB  \n",
      "3        Marcedes Lewis            TE  \n",
      "4             Matt Ryan            QB  \n",
      "...                 ...           ...  \n",
      "1684        Malik Davis            RB  \n",
      "1685  Peyton Hendershot            TE  \n",
      "1686     Dennis Houston            WR  \n",
      "1687    Jared Bernhardt            WR  \n",
      "1688  Stanley Berryhill            WR  \n",
      "\n",
      "[834 rows x 8 columns]\n"
     ]
    }
   ],
   "execution_count": 119
  },
  {
   "metadata": {
    "ExecuteTime": {
     "end_time": "2025-04-11T19:09:50.791659Z",
     "start_time": "2025-04-11T19:09:48.791955Z"
    }
   },
   "cell_type": "code",
   "source": [
    "player_stats = defaultdict(lambda: [0, 0])\n",
    "co_occurrence = defaultdict(lambda: defaultdict(lambda: [0, 0]))\n",
    "gameIds = team_player_play['gameId'].unique()\n",
    "\n",
    "# analyze game play for each match, and total combined EPA, Plays when both players were on the field for the same play.\n",
    "for play in gameIds:\n",
    "    match = plays[plays['gameId'] == play]\n",
    "    for i, j in match.iterrows():\n",
    "        x_id = j['playId']\n",
    "        epa = j['expectedPointsAdded']\n",
    "        all_players_invovled = team_player_play[\n",
    "            (team_player_play['gameId'] == play) &\n",
    "            (team_player_play['playId'] == x_id)\n",
    "        ]\n",
    "\n",
    "        offensive_ids = all_players_invovled['nflId'].dropna().unique()\n",
    "        for p_id in offensive_ids:\n",
    "            player_stats[p_id][0] += epa\n",
    "            player_stats[p_id][1] += 1\n",
    "\n",
    "        for x, p1_id in enumerate(offensive_ids):\n",
    "            for p2_id in offensive_ids[x+1:]:\n",
    "                co_occurrence[p1_id][p2_id][0] += epa\n",
    "                co_occurrence[p1_id][p2_id][1] += 1\n",
    "                co_occurrence[p2_id][p1_id][0] += epa\n",
    "                co_occurrence[p2_id][p1_id][1] += 1\n"
   ],
   "id": "ab197c1b446f6307",
   "outputs": [],
   "execution_count": 120
  },
  {
   "metadata": {
    "ExecuteTime": {
     "end_time": "2025-04-11T19:09:50.795850Z",
     "start_time": "2025-04-11T19:09:50.794065Z"
    }
   },
   "cell_type": "code",
   "source": [
    "# Basic structure of the player network graph\n",
    "gx = Graph(directed=False)\n",
    "\n",
    "# Each node contains player info\n",
    "player_id = gx.new_vertex_property(\"int\")\n",
    "player_name = gx.new_vertex_property('string')\n",
    "player_position = gx.new_vertex_property('string')\n",
    "player_epa = gx.new_vertex_property('double')\n",
    "player_plays = gx.new_vertex_property('int')\n",
    "player_centrality = gx.new_vertex_property('double')\n",
    "\n",
    "# Edges represents the relationship between players who appear on the field together\n",
    "pair_plays = gx.new_edge_property(\"int\")\n",
    "pair_epa = gx.new_edge_property(\"double\")"
   ],
   "id": "448d98e014d9cb09",
   "outputs": [],
   "execution_count": 121
  },
  {
   "metadata": {
    "ExecuteTime": {
     "end_time": "2025-04-11T19:09:50.970887Z",
     "start_time": "2025-04-11T19:09:50.812761Z"
    }
   },
   "cell_type": "code",
   "source": [
    "adj_mat = {}\n",
    "for s_id, stats in player_stats.items():\n",
    "    if s_id is not None and s_id not in adj_mat:\n",
    "        v = gx.add_vertex()\n",
    "        adj_mat[s_id] = v\n",
    "\n",
    "        player_info = players[players['nflId'] == s_id]\n",
    "        if not player_info.empty:\n",
    "            player_name[v] = player_info.iloc[0]['displayName']\n",
    "            player_position[v] = player_info.iloc[0]['position']\n",
    "        else:\n",
    "            player_name[v] = f\"Player {s_id}\"\n",
    "            player_position[v] = \"NaN\"\n",
    "\n",
    "        player_id[v] = int(s_id)\n",
    "        if stats[1] > 0:\n",
    "            player_epa[v] = stats[0] / stats[1]\n",
    "        else:\n",
    "            player_epa[v] = 0\n",
    "        player_plays[v] = stats[1]\n",
    "\n",
    "for p1_id, connections in co_occurrence.items():\n",
    "    for p2_id, stats in connections.items():\n",
    "        if p1_id in adj_mat and p2_id in adj_mat and stats[1] > 0:\n",
    "            src, tgt = adj_mat[p1_id], adj_mat[p2_id]\n",
    "            edge_exists = False\n",
    "            for e in src.out_edges():\n",
    "                if e.target() == tgt:\n",
    "                    edge_exists = True\n",
    "                    break\n",
    "\n",
    "            if not edge_exists:\n",
    "                e = gx.add_edge(src, tgt)\n",
    "                pair_plays[e] = stats[1]\n",
    "                pair_epa[e] = stats[0] / stats[1]"
   ],
   "id": "1488bea980222e46",
   "outputs": [],
   "execution_count": 122
  },
  {
   "metadata": {
    "ExecuteTime": {
     "end_time": "2025-04-11T19:09:50.989646Z",
     "start_time": "2025-04-11T19:09:50.987767Z"
    }
   },
   "cell_type": "code",
   "source": [
    "gx.vertex_properties[\"name\"] = player_name\n",
    "gx.vertex_properties[\"id\"] = player_id\n",
    "gx.vertex_properties[\"position\"] = player_position\n",
    "gx.vertex_properties[\"epa\"] = player_epa\n",
    "gx.vertex_properties[\"plays\"] = player_plays\n",
    "gx.edge_properties[\"plays\"] = pair_plays\n",
    "gx.edge_properties[\"epa\"] = pair_epa"
   ],
   "id": "e4c99f4a341be261",
   "outputs": [],
   "execution_count": 123
  },
  {
   "metadata": {
    "ExecuteTime": {
     "end_time": "2025-04-11T19:12:13.210273Z",
     "start_time": "2025-04-11T19:12:13.203861Z"
    }
   },
   "cell_type": "code",
   "source": [
    "# calculate eigenvector centrality\n",
    "e = eigenvector(gx)\n",
    "gx.vp.eigenvector = e[1]\n",
    "player_centrality = e[1]\n",
    "top_players = [] # best 10 for each team\n",
    "\n",
    "for v in gx.vertices():\n",
    "    heapq.heappush(top_players, (player_centrality[v], v))\n",
    "    if len(top_players) > 10:\n",
    "        heapq.heappop(top_players)\n",
    "\n",
    "print(top_players)\n"
   ],
   "id": "e144479372630719",
   "outputs": [
    {
     "name": "stdout",
     "output_type": "stream",
     "text": [
      "[(0.2092991724807172, <Vertex object with index '7' at 0x358494840>), (0.20929917248071722, <Vertex object with index '3' at 0x358495440>), (0.20929917248071722, <Vertex object with index '2' at 0x358495a40>), (0.20929917248071722, <Vertex object with index '15' at 0x358494440>), (0.2131953178845754, <Vertex object with index '19' at 0x358496740>), (0.21319531788457544, <Vertex object with index '5' at 0x3584971c0>), (0.20929917248071722, <Vertex object with index '12' at 0x358495bc0>), (0.2131953178845755, <Vertex object with index '1' at 0x3584962c0>), (0.21319531788457552, <Vertex object with index '8' at 0x358495340>), (0.21319531788457544, <Vertex object with index '10' at 0x358494fc0>)]\n"
     ]
    }
   ],
   "execution_count": 126
  },
  {
   "metadata": {
    "ExecuteTime": {
     "end_time": "2025-04-11T19:12:14.323937Z",
     "start_time": "2025-04-11T19:12:14.320489Z"
    }
   },
   "cell_type": "code",
   "source": [
    "top_players.sort(reverse=True)\n",
    "for score, v in top_players:\n",
    "    print(f\"{gx.vp.name[v]}: pos=({gx.vp.position[v]}), centrality={score:.4f}, EPA/play={gx.vp.epa[v]:.4f}\")\n"
   ],
   "id": "11489cd649351819",
   "outputs": [
    {
     "name": "stdout",
     "output_type": "stream",
     "text": [
      "Teven Jenkins: pos=(T), centrality=0.2132, EPA/play=-0.0795\n",
      "Dante Pettis: pos=(WR), centrality=0.2132, EPA/play=-0.1146\n",
      "Braxton Jones: pos=(T), centrality=0.2132, EPA/play=-0.0497\n",
      "Cole Kmet: pos=(TE), centrality=0.2132, EPA/play=-0.0429\n",
      "Trevon Wesco: pos=(TE), centrality=0.2132, EPA/play=0.0572\n",
      "Khari Blasingame: pos=(FB), centrality=0.2093, EPA/play=-0.0272\n",
      "Ryan Griffin: pos=(TE), centrality=0.2093, EPA/play=-0.0648\n",
      "David Montgomery: pos=(RB), centrality=0.2093, EPA/play=-0.0166\n",
      "Equanimeous St. Brown: pos=(WR), centrality=0.2093, EPA/play=-0.0353\n",
      "Justin Fields: pos=(QB), centrality=0.2093, EPA/play=-0.0474\n"
     ]
    }
   ],
   "execution_count": 127
  },
  {
   "metadata": {
    "ExecuteTime": {
     "end_time": "2025-04-11T19:09:51.048384Z",
     "start_time": "2025-04-11T19:09:51.047302Z"
    }
   },
   "cell_type": "code",
   "source": "",
   "id": "2d389a80cb522b45",
   "outputs": [],
   "execution_count": null
  }
 ],
 "metadata": {
  "kernelspec": {
   "display_name": "Python 3",
   "language": "python",
   "name": "python3"
  },
  "language_info": {
   "codemirror_mode": {
    "name": "ipython",
    "version": 2
   },
   "file_extension": ".py",
   "mimetype": "text/x-python",
   "name": "python",
   "nbconvert_exporter": "python",
   "pygments_lexer": "ipython2",
   "version": "2.7.6"
  }
 },
 "nbformat": 4,
 "nbformat_minor": 5
}
