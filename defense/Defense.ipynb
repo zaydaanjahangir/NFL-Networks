{
 "cells": [
  {
   "cell_type": "markdown",
   "metadata": {},
   "source": [
    "#### Graph Construction\n",
    "-  Nodes: Represent players on the field\n",
    "- Edges: Defined based on proximity meaning if players come within 2 feet of each other or other interactions, possibly with weights (like inverse distance or duration of proximity).\n",
    "\n",
    "#### Influence Metrics\n",
    "- Degree Centrality: Counts the number of direct connections a player has.\n",
    "- Betweenness Centrality: Measures how often a player is on the shortest path between other players, indicating a bridging/glue role (potentially influential)\n",
    "- Closeness Centrality: Indicates how quickly a player can interact with all others, reflecting agility or a positional advantage.\n",
    "- Eigenvector Centrality: Evaluates a player's influence based on connections to other influential players.\n",
    "- Simulate node removals to test network robustness and observe changes in connectivity, indicating influential players.\n",
    "\n",
    "#### Additional Considerations\n",
    "-  Use temporal aggregation (considering interactions over the duration of a play).\n",
    "- Consider both teammate and opponent interactions for a bigger picture of influence."
   ]
  },
  {
   "cell_type": "code",
   "execution_count": 3,
   "metadata": {},
   "outputs": [],
   "source": [
    "import graph_tool.all as gt\n",
    "import polars as pl\n",
    "from collections import defaultdict"
   ]
  },
  {
   "cell_type": "code",
   "execution_count": 4,
   "metadata": {},
   "outputs": [],
   "source": [
    "players = pl.read_csv(\"nfl-big-data-bowl-2025/players.csv\")\n",
    "tracking = pl.read_csv(\"nfl-big-data-bowl-2025/tracking_week_1.csv\", null_values=[\"NA\", \"na\", \"N/A\", \"n/a\", \"NULL\", \"null\", \"None\", \"none\"])"
   ]
  },
  {
   "cell_type": "code",
   "execution_count": 8,
   "metadata": {},
   "outputs": [
    {
     "name": "stdout",
     "output_type": "stream",
     "text": [
      "tracking: shape: (5, 18)\n",
      "┌────────────┬────────┬───────┬─────────────┬───┬──────┬──────┬──────┬─────────────────────────┐\n",
      "│ gameId     ┆ playId ┆ nflId ┆ displayName ┆ … ┆ dis  ┆ o    ┆ dir  ┆ event                   │\n",
      "│ ---        ┆ ---    ┆ ---   ┆ ---         ┆   ┆ ---  ┆ ---  ┆ ---  ┆ ---                     │\n",
      "│ i64        ┆ i64    ┆ i64   ┆ str         ┆   ┆ f64  ┆ f64  ┆ f64  ┆ str                     │\n",
      "╞════════════╪════════╪═══════╪═════════════╪═══╪══════╪══════╪══════╪═════════════════════════╡\n",
      "│ 2022090800 ┆ 3696   ┆ null  ┆ football    ┆ … ┆ 1.47 ┆ null ┆ null ┆ pass_outcome_incomplete │\n",
      "│ 2022090800 ┆ 3696   ┆ null  ┆ football    ┆ … ┆ 1.27 ┆ null ┆ null ┆ null                    │\n",
      "│ 2022090800 ┆ 3696   ┆ null  ┆ football    ┆ … ┆ 0.38 ┆ null ┆ null ┆ null                    │\n",
      "│ 2022090800 ┆ 3696   ┆ null  ┆ football    ┆ … ┆ 0.37 ┆ null ┆ null ┆ null                    │\n",
      "│ 2022090800 ┆ 3696   ┆ null  ┆ football    ┆ … ┆ 0.36 ┆ null ┆ null ┆ null                    │\n",
      "└────────────┴────────┴───────┴─────────────┴───┴──────┴──────┴──────┴─────────────────────────┘\n"
     ]
    }
   ],
   "source": [
    "print(\"tracking:\", tracking.select(pl.all()).tail())"
   ]
  },
  {
   "cell_type": "code",
   "execution_count": 3,
   "metadata": {},
   "outputs": [
    {
     "data": {
      "text/plain": [
       "'\\ni[0] = gameId\\ni[1] = playId\\ni[2] = nflId\\ni[3] = displayName\\ni[4] = frameId\\ni[5] = frameType\\ni[6] = time\\ni[7] = jerseyNumber\\ni[8] = club\\ni[9] = playDirection\\ni[10] = x\\ni[11] = y\\ni[12] = s\\ni[13] = a\\ni[14] = dis\\ni[15] = o\\ni[16] = dir\\ni[17] = event\\n'"
      ]
     },
     "execution_count": 3,
     "metadata": {},
     "output_type": "execute_result"
    }
   ],
   "source": [
    "'''\n",
    "i[0] = gameId\n",
    "i[1] = playId\n",
    "i[2] = nflId\n",
    "i[3] = displayName\n",
    "i[4] = frameId\n",
    "i[5] = frameType\n",
    "i[6] = time\n",
    "i[7] = jerseyNumber\n",
    "i[8] = club\n",
    "i[9] = playDirection\n",
    "i[10] = x\n",
    "i[11] = y\n",
    "i[12] = s\n",
    "i[13] = a\n",
    "i[14] = dis\n",
    "i[15] = o\n",
    "i[16] = dir\n",
    "i[17] = event\n",
    "'''"
   ]
  },
  {
   "cell_type": "markdown",
   "metadata": {},
   "source": [
    "### TODO\n",
    "- Create an nflId to displayName database, maybe with Redis for quick lookups?\n",
    "- ~~Create a play by play graph creator~~\n",
    "- Iterate through a game and create graphs for every play\n",
    "- Compute analysis on a network\n",
    "\n"
   ]
  },
  {
   "cell_type": "code",
   "execution_count": null,
   "metadata": {},
   "outputs": [
    {
     "name": "stdout",
     "output_type": "stream",
     "text": [
      "Number of vertices: 22\n",
      "Frame: 1 Edges computed: 231\n",
      "Number of vertices: 22\n",
      "Frame: 24 Edges computed: 231\n",
      "Number of vertices: 22\n",
      "Frame: 48 Edges computed: 231\n",
      "Number of vertices: 22\n",
      "Frame: 72 Edges computed: 231\n",
      "Number of vertices: 22\n",
      "Frame: 96 Edges computed: 231\n",
      "Number of vertices: 22\n",
      "Frame: 120 Edges computed: 231\n",
      "Number of vertices: 22\n",
      "Frame: 144 Edges computed: 231\n",
      "[<Graph object, undirected, with 22 vertices and 231 edges, 3 internal vertex properties, 1 internal edge property, at 0x16b807570>, <Graph object, undirected, with 22 vertices and 231 edges, 3 internal vertex properties, 1 internal edge property, at 0x16b807680>, <Graph object, undirected, with 22 vertices and 231 edges, 3 internal vertex properties, 1 internal edge property, at 0x16b807790>, <Graph object, undirected, with 22 vertices and 231 edges, 3 internal vertex properties, 1 internal edge property, at 0x16b807240>, <Graph object, undirected, with 22 vertices and 231 edges, 3 internal vertex properties, 1 internal edge property, at 0x16b807ac0>, <Graph object, undirected, with 22 vertices and 231 edges, 3 internal vertex properties, 1 internal edge property, at 0x16b8067a0>, <Graph object, undirected, with 22 vertices and 231 edges, 3 internal vertex properties, 1 internal edge property, at 0x16b807df0>]\n"
     ]
    }
   ],
   "source": [
    "def group_rows_by_frame(data, gameId, playId):\n",
    "    frames = defaultdict(list)\n",
    "    for row in data.iter_rows():\n",
    "        frame_id = row[4]\n",
    "        if (frame_id % 24 == 0 or frame_id == 1) and row[0] == gameId and row[1] == playId:\n",
    "            frames[frame_id].append(row)\n",
    "    return frames\n",
    "\n",
    "def construct_graph(data, gameId, playId):\n",
    "\n",
    "    g = gt.Graph(directed=False)\n",
    "\n",
    "    player_id_prop = g.new_vertex_property(\"string\")\n",
    "    x_coord_prop = g.new_vertex_property(\"float\")\n",
    "    y_coord_prop = g.new_vertex_property(\"float\")\n",
    "    \n",
    "    g.vertex_properties[\"player_id\"] = player_id_prop\n",
    "    g.vertex_properties[\"x\"] = x_coord_prop\n",
    "    g.vertex_properties[\"y\"] = y_coord_prop\n",
    "\n",
    "    weight_prop = g.new_edge_property(\"float\")\n",
    "\n",
    "    g.edge_properties[\"weight\"] = weight_prop\n",
    "\n",
    "    playerIDs = set()\n",
    "    vertex_dict = {}\n",
    "    res = []\n",
    "    graphs = []\n",
    "\n",
    "    for row in data.iter_rows():\n",
    "        if (row[0] == gameId and \n",
    "            row[1] == playId and \n",
    "            row[3] != 'football' and  # do some data cleaning to remove this\n",
    "            ((int(row[4]) % 24 == 0) or \n",
    "             (int(row[4]) == 1))):\n",
    "\n",
    "            res.append(row)\n",
    "            \n",
    "            if row[2] != 'None' and row[2] not in vertex_dict:\n",
    "                playerIDs.add(row[2])\n",
    "                v = g.add_vertex()\n",
    "                player_id_prop[v] = row[2]\n",
    "                vertex_dict[row[2]] = v \n",
    "\n",
    "    frame_groups = group_rows_by_frame(data, gameId, playId)\n",
    "    \n",
    "    for frame, rows in frame_groups.items():\n",
    "        for row in rows:\n",
    "            nfl_id = row[2]\n",
    "            if nfl_id in vertex_dict:\n",
    "                v = vertex_dict[nfl_id]\n",
    "                x_coord_prop[v] = float(row[10])\n",
    "                y_coord_prop[v] = float(row[11])\n",
    "        \n",
    "\n",
    "        g.clear_edges()\n",
    "        vertices = list(vertex_dict.values())\n",
    "        n = len(vertices)\n",
    "        print(\"Number of vertices:\", n)\n",
    "        for i in range(n):\n",
    "            for j in range(i + 1, n):\n",
    "                v1 = vertices[i]\n",
    "                v2 = vertices[j]\n",
    "                dx = x_coord_prop[v1] - x_coord_prop[v2]\n",
    "                dy = y_coord_prop[v1] - y_coord_prop[v2]\n",
    "                dist = (dx**2 + dy**2)**0.5\n",
    "                weight = 1 / dist if dist != 0 else 0  # Avoid division by zero\n",
    "                e = g.add_edge(v1, v2)\n",
    "                weight_prop[e] = weight\n",
    "\n",
    "\n",
    "        print(\"Frame:\", frame, \"Edges computed:\", g.num_edges())\n",
    "        graphs.append(g.copy())\n",
    "\n",
    "    return graphs\n",
    "\n",
    "\n",
    "network = construct_graph(tracking, 2022091200, 64)\n",
    "print(network)"
   ]
  },
  {
   "cell_type": "markdown",
   "metadata": {},
   "source": [
    " Is this for every second or one for every play?\n",
    " What graph formations/trends lead to the best defensive outcome\n",
    "    - Run every graph tool function"
   ]
  },
  {
   "cell_type": "code",
   "execution_count": null,
   "metadata": {},
   "outputs": [],
   "source": []
  }
 ],
 "metadata": {
  "kernelspec": {
   "display_name": "gt",
   "language": "python",
   "name": "python3"
  },
  "language_info": {
   "codemirror_mode": {
    "name": "ipython",
    "version": 3
   },
   "file_extension": ".py",
   "mimetype": "text/x-python",
   "name": "python",
   "nbconvert_exporter": "python",
   "pygments_lexer": "ipython3",
   "version": "3.13.2"
  }
 },
 "nbformat": 4,
 "nbformat_minor": 2
}
